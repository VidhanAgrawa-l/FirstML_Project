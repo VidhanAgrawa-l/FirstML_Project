{
 "cells": [
  {
   "cell_type": "markdown",
   "metadata": {},
   "source": [
    "AGENDA\n",
    "\n",
    "1- Set up the github {Repository} \n",
    "a)new environment \n",
    "b)setup. py\n",
    "c)requirements.txt"
   ]
  },
  {
   "cell_type": "markdown",
   "metadata": {},
   "source": [
    "END TO END ML PROJECT \n",
    "\n",
    "LECTURE -1 \n",
    "\n",
    "s1- ek aalag folder bna lo cell-y mai and open it in vscode via .code in terminal\n",
    "s2- create virtual env\n",
    "\n",
    "    Check the Python version:python3 --version\n",
    "    Navigate to the folder where you want to create the virtual environment:cd /path/to/your/project\n",
    "    Create the virtual environment:python3 -m venv venv(venv is the name of the virtual environment directory.)\n",
    "    Activate the environment to use it:source venv/bin/activate\n",
    "    Deactivate the Virtual Environment:deactivate\n",
    "    simply delete the venv directory:rm -rf venv\n",
    "\n",
    "s3- use this git command in terminal for\n",
    "\n",
    "git init(initialze empty git repo)\n",
    "git add README. md (make it directly in vs code file)\n",
    "git commit -m \"first commit\"\n",
    "git branch -M main\n",
    "git remote add origin https://github.com/krishnaik06/mlproject.git (to meke git and vscode in sink)\n",
    "git push -u origin main(you have to do it every time when u want to push it into the repo)\n",
    "\n",
    "Git Configuration(if u are doing it first time )\n",
    "git config --global user.name \"John Doe\" (-git config --global user.name) sirf itni comand se check kr skte hai \n",
    "git config --global user.email johndoe@example.com\n",
    "\n",
    "s4- use git hub and create .gitignore file and **dont forgot to choose python **\n",
    "\n",
    "s5- make \n",
    "    requiremnet.txt (all the package that are needed in project are mention here and can be install from here )\n",
    "    setup.py(buildind your applicaation as package itself so, u can also daalska in python pypi)\n",
    "\n",
    "    ->The Python Package Index (PyPI) is a repository of software for the Python programming language.\n",
    "    ->Find, install and publish Python packages with the Python Package Index\n",
    "\n",
    "s6- make a folder name src(source) \n",
    "    make __init__.py inside it so that \n",
    "    The __init__.py file plays a key role in Python package management. Its primary function is to indicate to Python that a directory should be treated as a package.\n",
    "    \n",
    "    "
   ]
  },
  {
   "cell_type": "markdown",
   "metadata": {},
   "source": []
  },
  {
   "cell_type": "code",
   "execution_count": null,
   "metadata": {
    "vscode": {
     "languageId": "plaintext"
    }
   },
   "outputs": [],
   "source": [
    "from setuptools import find_packages, setup\n",
    "\n",
    "from\n",
    "from typing import List\n",
    "\n",
    "\n",
    "get_requirements(file_path:str) -›List[str]:\n",
    "this function will return the list of requirements\n",
    "\n",
    "requirements=[]\n",
    "with open(file_path) as file_obj:\n",
    "requirements=file_obj. readlines()\n",
    "requirements=[req. replace(\"\\n\",\"\") for req in requirements]\n",
    "\n",
    "setup ( name= 'mlproject', version='0.0.1' author='Krish',\n",
    "author_email='krishnaik06@gmail.com' packages=find_packages (),\n",
    "install_requires=get_requirements ('requirement.txt')"
   ]
  },
  {
   "cell_type": "markdown",
   "metadata": {},
   "source": []
  },
  {
   "cell_type": "markdown",
   "metadata": {},
   "source": []
  }
 ],
 "metadata": {
  "language_info": {
   "name": "python"
  }
 },
 "nbformat": 4,
 "nbformat_minor": 2
}
